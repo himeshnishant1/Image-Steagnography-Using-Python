{
 "cells": [
  {
   "cell_type": "code",
   "execution_count": 20,
   "metadata": {},
   "outputs": [],
   "source": [
    "import numpy as np\n",
    "import cv2"
   ]
  },
  {
   "cell_type": "code",
   "execution_count": 21,
   "metadata": {},
   "outputs": [],
   "source": [
    "# Decimal to Binary convertor\n",
    "def dec2bin(dec):\n",
    "    inverse = ''\n",
    "    binary = ''\n",
    "    while dec != 0:\n",
    "        inverse = inverse + str( int(dec % 2) )\n",
    "        dec = int(dec / 2)\n",
    "    if len(inverse) <= 8:\n",
    "        size = len(inverse)\n",
    "        for i in range(8-size):\n",
    "            inverse = inverse + '0'\n",
    "    for i in range(len(inverse)-1,-1,-1):\n",
    "        binary = binary + str(inverse[i])\n",
    "    return binary"
   ]
  },
  {
   "cell_type": "code",
   "execution_count": 22,
   "metadata": {},
   "outputs": [],
   "source": [
    "# Binary to Decimal convertor\n",
    "def bin2dec(binar):\n",
    "    binar = int(binar)\n",
    "    dec = 0\n",
    "    i = 0\n",
    "    while binar > 0:\n",
    "        dec = dec + (int(binar%10)*np.power(2,i))\n",
    "        i = i+1\n",
    "        binar = int(binar/10)\n",
    "    return dec"
   ]
  },
  {
   "cell_type": "code",
   "execution_count": 23,
   "metadata": {},
   "outputs": [],
   "source": [
    "# XOR operation\n",
    "def XOR(data,key):\n",
    "    data = str(data)\n",
    "    #print(\"data \",data)\n",
    "    key = str(key)\n",
    "    #print(\"key \",key)\n",
    "    enc_data = ''\n",
    "    for ext_data in range(len(data)):\n",
    "        if data[ext_data] == '0' and key[ext_data] == '0':\n",
    "            enc_data = enc_data + '0'\n",
    "        elif data[ext_data] == '0' and key[ext_data] == '1':\n",
    "            enc_data = enc_data + '1'\n",
    "        elif data[ext_data] == '1' and key[ext_data] == '0':\n",
    "            enc_data = enc_data + '1'\n",
    "        elif data[ext_data] == '1' and key[ext_data] == '1':\n",
    "            enc_data = enc_data + '0'\n",
    "    return enc_data"
   ]
  },
  {
   "cell_type": "code",
   "execution_count": 24,
   "metadata": {},
   "outputs": [],
   "source": [
    "def modul(d1):\n",
    "    if d1 < 0:\n",
    "        d1 = d1**2\n",
    "        d1 = int(np.sqrt(d1))\n",
    "    return d1"
   ]
  },
  {
   "cell_type": "code",
   "execution_count": 25,
   "metadata": {},
   "outputs": [
    {
     "name": "stdin",
     "output_type": "stream",
     "text": [
      "Enter a numeric key of 4 digits..  7607\n"
     ]
    },
    {
     "name": "stdout",
     "output_type": "stream",
     "text": [
      "Converting Message to Binary and encrypting...\n",
      "\n",
      "Message Conversion Successfull.\n",
      "\n"
     ]
    }
   ],
   "source": [
    "# Secret Message into ASCII and ASCII into Binary format\n",
    "file = open('input.txt','r')\n",
    "secret_message = ''\n",
    "for line in file.readlines():\n",
    "    secret_message = secret_message + str(line)\n",
    "binary = ''\n",
    "key = ''\n",
    "key = input(\"Enter a numeric key of 4 digits.. \")\n",
    "count = 0\n",
    "tmp = ''\n",
    "while True:\n",
    "    if key.isnumeric() and (len(key) == 4):\n",
    "        sum1 = 0\n",
    "        for i in range(len(key)):\n",
    "            sum1 = sum1+ ord(key[i])\n",
    "        key = str(dec2bin(sum1))\n",
    "        print(\"Converting Message to Binary and encrypting...\")\n",
    "        for pos in range(len(secret_message)):\n",
    "            if ord(secret_message[pos]) <= 255:\n",
    "                if count < 8:\n",
    "                    binary = binary + str(XOR(dec2bin(ord(secret_message[pos])),key)) # coverting Secret code into ASCII and ASCII into Encrypted Binary.\n",
    "                    count = count + 1\n",
    "                else:\n",
    "                    tmp = count = 0\n",
    "        print(\"\\nMessage Conversion Successfull.\\n\")\n",
    "        #print(\"Binary Code = \",binary)\n",
    "        break;\n",
    "    else:\n",
    "        print(\"please enter only 4 numeric digits the key\")\n",
    "        key = input(\"Enter a numeric key of 4 digits..\")\n"
   ]
  },
  {
   "cell_type": "code",
   "execution_count": 26,
   "metadata": {},
   "outputs": [
    {
     "name": "stdout",
     "output_type": "stream",
     "text": [
      "960 1280 3\n"
     ]
    }
   ],
   "source": [
    "img = cv2.imread('cover.jpeg')\n",
    "height,width,channels = img.shape\n",
    "print(width,height,channels)"
   ]
  },
  {
   "cell_type": "code",
   "execution_count": 28,
   "metadata": {},
   "outputs": [
    {
     "name": "stderr",
     "output_type": "stream",
     "text": [
      "C:\\Users\\himes\\Anaconda3\\lib\\site-packages\\ipykernel_launcher.py:19: RuntimeWarning: overflow encountered in ubyte_scalars\n"
     ]
    },
    {
     "ename": "ValueError",
     "evalue": "invalid literal for int() with base 10: ''",
     "output_type": "error",
     "traceback": [
      "\u001b[1;31m---------------------------------------------------------------------------\u001b[0m",
      "\u001b[1;31mValueError\u001b[0m                                Traceback (most recent call last)",
      "\u001b[1;32m<ipython-input-28-68a245442fc9>\u001b[0m in \u001b[0;36m<module>\u001b[1;34m\u001b[0m\n\u001b[0;32m     36\u001b[0m             \u001b[1;31m#print(bin_ct1,'\\n',bin_ct2)\u001b[0m\u001b[1;33m\u001b[0m\u001b[1;33m\u001b[0m\u001b[1;33m\u001b[0m\u001b[0m\n\u001b[0;32m     37\u001b[0m             \u001b[1;31m#print(binary[bin_ct1:bin_ct2])\u001b[0m\u001b[1;33m\u001b[0m\u001b[1;33m\u001b[0m\u001b[1;33m\u001b[0m\u001b[0m\n\u001b[1;32m---> 38\u001b[1;33m             \u001b[0msecret_data\u001b[0m \u001b[1;33m=\u001b[0m \u001b[0mint\u001b[0m\u001b[1;33m(\u001b[0m\u001b[0mbin2dec\u001b[0m\u001b[1;33m(\u001b[0m\u001b[0mbinary\u001b[0m\u001b[1;33m[\u001b[0m\u001b[0mbin_ct1\u001b[0m\u001b[1;33m:\u001b[0m\u001b[0mbin_ct2\u001b[0m\u001b[1;33m]\u001b[0m\u001b[1;33m)\u001b[0m\u001b[1;33m)\u001b[0m\u001b[1;33m\u001b[0m\u001b[1;33m\u001b[0m\u001b[0m\n\u001b[0m\u001b[0;32m     39\u001b[0m             \u001b[1;31m#bin_ct = bin_ct + m\u001b[0m\u001b[1;33m\u001b[0m\u001b[1;33m\u001b[0m\u001b[1;33m\u001b[0m\u001b[0m\n\u001b[0;32m     40\u001b[0m             \u001b[0md1_psudo\u001b[0m \u001b[1;33m=\u001b[0m \u001b[0ml1\u001b[0m \u001b[1;33m+\u001b[0m \u001b[0msecret_data\u001b[0m\u001b[1;33m\u001b[0m\u001b[1;33m\u001b[0m\u001b[0m\n",
      "\u001b[1;32m<ipython-input-22-aa3c060aa06a>\u001b[0m in \u001b[0;36mbin2dec\u001b[1;34m(binar)\u001b[0m\n\u001b[0;32m      1\u001b[0m \u001b[1;31m# Binary to Decimal convertor\u001b[0m\u001b[1;33m\u001b[0m\u001b[1;33m\u001b[0m\u001b[1;33m\u001b[0m\u001b[0m\n\u001b[0;32m      2\u001b[0m \u001b[1;32mdef\u001b[0m \u001b[0mbin2dec\u001b[0m\u001b[1;33m(\u001b[0m\u001b[0mbinar\u001b[0m\u001b[1;33m)\u001b[0m\u001b[1;33m:\u001b[0m\u001b[1;33m\u001b[0m\u001b[1;33m\u001b[0m\u001b[0m\n\u001b[1;32m----> 3\u001b[1;33m     \u001b[0mbinar\u001b[0m \u001b[1;33m=\u001b[0m \u001b[0mint\u001b[0m\u001b[1;33m(\u001b[0m\u001b[0mbinar\u001b[0m\u001b[1;33m)\u001b[0m\u001b[1;33m\u001b[0m\u001b[1;33m\u001b[0m\u001b[0m\n\u001b[0m\u001b[0;32m      4\u001b[0m     \u001b[0mdec\u001b[0m \u001b[1;33m=\u001b[0m \u001b[1;36m0\u001b[0m\u001b[1;33m\u001b[0m\u001b[1;33m\u001b[0m\u001b[0m\n\u001b[0;32m      5\u001b[0m     \u001b[0mi\u001b[0m \u001b[1;33m=\u001b[0m \u001b[1;36m0\u001b[0m\u001b[1;33m\u001b[0m\u001b[1;33m\u001b[0m\u001b[0m\n",
      "\u001b[1;31mValueError\u001b[0m: invalid literal for int() with base 10: ''"
     ]
    }
   ],
   "source": [
    "bin_ct1 = bin_ct2 = 0\n",
    "steagno_img = np.zeros((height,width,3),np.uint8)\n",
    "for i in range(1,height):\n",
    "    for j in range(0,int(width/2)*2,2):\n",
    "        \n",
    "        p,t1,t2 = img[i,j]\n",
    "        p1,t1,t2 = img[i,j+1]\n",
    "        \n",
    "        #p[0],t1,t2 = img[i-1, j-1]\n",
    "        #p[1],t1,t2 = img[i, j-1]\n",
    "        #p[2],t1,t2 = img[i+1, j-1]\n",
    "        #p[3],t1,t2 = img[i-1, j]\n",
    "        #p[4],t1,t2 = img[i, j]\n",
    "        #p[5],t1,t2 = img[i+1, j]\n",
    "        #p[6],t1,t2 = img[i-1, j+1]\n",
    "        #p[7],t1,t2 = img[i, j+1]\n",
    "        #p[8],t1,t2 = img[i+1, j+1]\n",
    "        \n",
    "        d1 = p - p1 \n",
    "        d1 = modul(d1) # Difference of the both p and p1.\n",
    "        \n",
    "        l1 = min(p1,p) # Lower range of the difference d1.\n",
    "        u1 = max(p1,p) # Upper range of the difference d1.\n",
    "        \n",
    "        #print(\"u1 = \",u1,'\\nl1 = ',l1,'\\n',(u1-l1))\n",
    "        if (u1-l1) != 0:\n",
    "            m = int(np.log2(u1-l1)) # Number of embiding bits.\n",
    "        else:\n",
    "            m = 0\n",
    "        \n",
    "        p_psudo = 0\n",
    "        p1_psudo = 0\n",
    "        if m > 0 :\n",
    "            bin_ct1 = bin_ct2\n",
    "            bin_ct2 = bin_ct2 + m\n",
    "            #print(bin_ct1,'\\n',bin_ct2)\n",
    "            #print(binary[bin_ct1:bin_ct2])\n",
    "            secret_data = int(bin2dec(binary[bin_ct1:bin_ct2]))\n",
    "            #bin_ct = bin_ct + m\n",
    "            d1_psudo = l1 + secret_data\n",
    "            \n",
    "            if p >= p1 and d1_psudo > d1:\n",
    "                p_psudo = p + int(modul(d1_psudo - d1)/2)\n",
    "                p1_psudo = p1 - int(modul(d1_psudo - d1)/2)\n",
    "            \n",
    "            elif p < p1 and d1_psudo > d1:\n",
    "                p_psudo = p - int(modul(d1_psudo - d1)/2)\n",
    "                p1_psudo = p1 + int(modul(d1_psudo - d1)/2)\n",
    "            \n",
    "            elif p >= p1 and d1_psudo <= d1:\n",
    "                p_psudo = p - int(modul(d1_psudo - d1)/2)\n",
    "                p1_psudo = p1 + int(modul(d1_psudo - d1)/2)\n",
    "                \n",
    "            elif p < p1 and d1_psudo <= d1:\n",
    "                p_psudo = p + int(modul(d1_psudo - d1)/2)\n",
    "                p1_psudo = p1 - int(modul(d1_psudo - d1)/2)\n",
    "            \n",
    "            steagno_img[i,j] = p_psudo,p_psudo,p_psudo\n",
    "            steagno_img[i,j+1] = p1_psudo,p1_psudo,p1_psudo\n",
    "            \n",
    "cv2.imwrite('steagno_image.jpeg',steagno_img)"
   ]
  },
  {
   "cell_type": "code",
   "execution_count": 29,
   "metadata": {},
   "outputs": [],
   "source": [
    "cv2.imshow('test',steagno_img)\n",
    "cv2.waitKey(0)\n",
    "cv2.destroyAllWindows()"
   ]
  },
  {
   "cell_type": "code",
   "execution_count": null,
   "metadata": {},
   "outputs": [],
   "source": []
  },
  {
   "cell_type": "code",
   "execution_count": null,
   "metadata": {},
   "outputs": [],
   "source": []
  },
  {
   "cell_type": "code",
   "execution_count": null,
   "metadata": {},
   "outputs": [],
   "source": [
    "                "
   ]
  }
 ],
 "metadata": {
  "kernelspec": {
   "display_name": "Python 3",
   "language": "python",
   "name": "python3"
  },
  "language_info": {
   "codemirror_mode": {
    "name": "ipython",
    "version": 3
   },
   "file_extension": ".py",
   "mimetype": "text/x-python",
   "name": "python",
   "nbconvert_exporter": "python",
   "pygments_lexer": "ipython3",
   "version": "3.7.6"
  }
 },
 "nbformat": 4,
 "nbformat_minor": 4
}
