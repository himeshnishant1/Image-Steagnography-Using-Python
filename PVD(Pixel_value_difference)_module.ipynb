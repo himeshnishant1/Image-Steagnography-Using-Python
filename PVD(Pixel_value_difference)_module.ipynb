{
 "cells": [
  {
   "cell_type": "code",
   "execution_count": 2,
   "metadata": {},
   "outputs": [],
   "source": [
    "import numpy as np\n",
    "import cv2\n",
    "import random"
   ]
  },
  {
   "cell_type": "code",
   "execution_count": 2,
   "metadata": {
    "jupyter": {
     "source_hidden": true
    }
   },
   "outputs": [],
   "source": [
    "# To find the median of the pixels.\n",
    "def part(L,v):\n",
    "    smaller = []\n",
    "    larger = []\n",
    "    for val in L:\n",
    "        if val < v : smaller += [val]\n",
    "        if val > v : larger += [val]\n",
    "    return (smaller,[v],larger)\n",
    "\n",
    "def top_k(L,k):\n",
    "    v = L[random.randrange(len(L))]\n",
    "    (left,middle,right) = part(L,v)\n",
    "    if len(left) == k : return left\n",
    "    if len(left)+1 == k : return left+middle\n",
    "    if len(left) > k : return top_k(left,k)\n",
    "    return left + middle + top_k(right, k - len(left) - len(middle))\n",
    "\n",
    "def median_rec(L):\n",
    "    n = len(L)\n",
    "    l = top_k(L, 5)\n",
    "    return max(l)"
   ]
  },
  {
   "cell_type": "code",
   "execution_count": 1,
   "metadata": {},
   "outputs": [],
   "source": [
    "# Decimal to Binary convertor\n",
    "def dec2bin(dec):\n",
    "    inverse = ''\n",
    "    binary = ''\n",
    "    while dec != 0:\n",
    "        inverse = inverse + str( int(dec % 2) )\n",
    "        dec = int(dec / 2)\n",
    "    if len(inverse) <= 8:\n",
    "        size = len(inverse)\n",
    "        for i in range(8-size):\n",
    "            inverse = inverse + '0'\n",
    "    for i in range(len(inverse)-1,-1,-1):\n",
    "        binary = binary + str(inverse[i])\n",
    "    return binary"
   ]
  },
  {
   "cell_type": "code",
   "execution_count": 2,
   "metadata": {},
   "outputs": [],
   "source": [
    "# Binary to Decimal convertor\n",
    "def bin2dec(binar):\n",
    "    binar = int(binar)\n",
    "    dec = 0\n",
    "    i = 0\n",
    "    while binar > 0:\n",
    "        dec = dec + (int(binar%10)*np.power(2,i))\n",
    "        i = i+1\n",
    "        binar = int(binar/10)\n",
    "    return dec"
   ]
  },
  {
   "cell_type": "code",
   "execution_count": 4,
   "metadata": {},
   "outputs": [],
   "source": [
    "# XOR operation\n",
    "def XOR(data,key):\n",
    "    data = str(data)\n",
    "    #print(\"data \",data)\n",
    "    key = str(key)\n",
    "    #print(\"key \",key)\n",
    "    enc_data = ''\n",
    "    for ext_data in range(len(data)):\n",
    "        if data[ext_data] == '0' and key[ext_data] == '0':\n",
    "            enc_data = enc_data + '0'\n",
    "        elif data[ext_data] == '0' and key[ext_data] == '1':\n",
    "            enc_data = enc_data + '1'\n",
    "        elif data[ext_data] == '1' and key[ext_data] == '0':\n",
    "            enc_data = enc_data + '1'\n",
    "        elif data[ext_data] == '1' and key[ext_data] == '1':\n",
    "            enc_data = enc_data + '0'\n",
    "    return enc_data"
   ]
  },
  {
   "cell_type": "code",
   "execution_count": 5,
   "metadata": {},
   "outputs": [
    {
     "name": "stdin",
     "output_type": "stream",
     "text": [
      "Enter a numeric key of 4 digits..  7607\n"
     ]
    },
    {
     "name": "stdout",
     "output_type": "stream",
     "text": [
      "Converting Message to Binary and encrypting...\n",
      "\n",
      "Message Conversion Successfull.\n",
      "\n"
     ]
    }
   ],
   "source": [
    "# Secret Message into ASCII and ASCII into Binary format\n",
    "file = open('input.txt','r')\n",
    "secret_message = ''\n",
    "for line in file.readlines():\n",
    "    secret_message = secret_message + str(line)\n",
    "binary = ''\n",
    "key = ''\n",
    "key = input(\"Enter a numeric key of 4 digits.. \")\n",
    "count = 0\n",
    "tmp = ''\n",
    "while True:\n",
    "    if key.isnumeric() and (len(key) == 4):\n",
    "        sum1 = 0\n",
    "        for i in range(len(key)):\n",
    "            sum1 = sum1+ ord(key[i])\n",
    "        key = str(dec2bin(sum1))\n",
    "        print(\"Converting Message to Binary and encrypting...\")\n",
    "        for pos in range(len(secret_message)):\n",
    "            if ord(secret_message[pos]) <= 255:\n",
    "                if count < 8:\n",
    "                    binary = binary + str(XOR(dec2bin(ord(secret_message[pos])),key)) # coverting Secret code into ASCII and ASCII into Encrypted Binary.\n",
    "                    count = count + 1\n",
    "                else:\n",
    "                    tmp = count = 0\n",
    "        print(\"\\nMessage Conversion Successfull.\\n\")\n",
    "        #print(\"Binary Code = \",binary)\n",
    "        break;\n",
    "    else:\n",
    "        print(\"please enter only 4 numeric digits the key\")\n",
    "        key = input(\"Enter a numeric key of 4 digits..\")\n"
   ]
  },
  {
   "cell_type": "code",
   "execution_count": 6,
   "metadata": {},
   "outputs": [],
   "source": [
    "def median(L):\n",
    "    for i in range(9):\n",
    "        for j in range(i,9):\n",
    "            if L[i] > L[j]:\n",
    "                temp = L[i]\n",
    "                L[i] = L[j]\n",
    "                L[j] = temp\n",
    "    return L[4]"
   ]
  },
  {
   "cell_type": "code",
   "execution_count": 29,
   "metadata": {},
   "outputs": [
    {
     "name": "stdout",
     "output_type": "stream",
     "text": [
      "6\n"
     ]
    }
   ],
   "source": [
    "top = [12,2,12,6,10,1,2,6,7]\n",
    "print(median(top))"
   ]
  },
  {
   "cell_type": "code",
   "execution_count": 3,
   "metadata": {},
   "outputs": [],
   "source": [
    "img = cv2.imread('original.jpeg',0)"
   ]
  },
  {
   "cell_type": "code",
   "execution_count": 12,
   "metadata": {},
   "outputs": [],
   "source": [
    "cv2.imshow('sample',img)\n",
    "cv2.waitKey(0)\n",
    "cv2.destroyAllWindows()"
   ]
  },
  {
   "cell_type": "code",
   "execution_count": 5,
   "metadata": {},
   "outputs": [
    {
     "ename": "SystemError",
     "evalue": "<built-in function imwrite> returned NULL without setting an error",
     "output_type": "error",
     "traceback": [
      "\u001b[1;31m---------------------------------------------------------------------------\u001b[0m",
      "\u001b[1;31mSystemError\u001b[0m                               Traceback (most recent call last)",
      "\u001b[1;32m<ipython-input-5-c30dfded33df>\u001b[0m in \u001b[0;36m<module>\u001b[1;34m\u001b[0m\n\u001b[1;32m----> 1\u001b[1;33m \u001b[0mcv2\u001b[0m\u001b[1;33m.\u001b[0m\u001b[0mimwrite\u001b[0m\u001b[1;33m(\u001b[0m\u001b[1;34m'cover.jpeg'\u001b[0m\u001b[1;33m,\u001b[0m\u001b[0mimg\u001b[0m\u001b[1;33m,\u001b[0m\u001b[1;36m0\u001b[0m\u001b[1;33m)\u001b[0m\u001b[1;33m\u001b[0m\u001b[1;33m\u001b[0m\u001b[0m\n\u001b[0m\u001b[0;32m      2\u001b[0m \u001b[0mimg\u001b[0m \u001b[1;33m=\u001b[0m \u001b[0mcv2\u001b[0m\u001b[1;33m.\u001b[0m\u001b[0mimread\u001b[0m\u001b[1;33m(\u001b[0m\u001b[1;34m'cover.jpeg'\u001b[0m\u001b[1;33m)\u001b[0m\u001b[1;33m\u001b[0m\u001b[1;33m\u001b[0m\u001b[0m\n",
      "\u001b[1;31mSystemError\u001b[0m: <built-in function imwrite> returned NULL without setting an error"
     ]
    }
   ],
   "source": [
    "cv2.imwrite('cover.jpeg',img)\n",
    "img = cv2.imread('cover.jpeg')"
   ]
  },
  {
   "cell_type": "code",
   "execution_count": 13,
   "metadata": {},
   "outputs": [
    {
     "name": "stdout",
     "output_type": "stream",
     "text": [
      "960 1280\n"
     ]
    }
   ],
   "source": [
    "height,width = img.shape\n",
    "print(width,height)"
   ]
  },
  {
   "cell_type": "code",
   "execution_count": null,
   "metadata": {},
   "outputs": [],
   "source": []
  },
  {
   "cell_type": "code",
   "execution_count": 14,
   "metadata": {},
   "outputs": [
    {
     "data": {
      "text/plain": [
       "True"
      ]
     },
     "execution_count": 14,
     "metadata": {},
     "output_type": "execute_result"
    }
   ],
   "source": [
    "bin_ct = 0\n",
    "steagno_img = img\n",
    "for i in range(1,int(height/3)*3,3):\n",
    "    for j in range(1,int(width/3)*3,3):\n",
    "        \n",
    "        p = np.zeros(9,np.uint8)\n",
    "        p_sudo = np.zeros(9,np.uint8)\n",
    "        d = np.zeros(9,np.uint8)\n",
    "        \n",
    "        p[0] = img[i-1,j-1]\n",
    "        p[1] = img[i,j-1]\n",
    "        p[2] = img[i+1,j-1]\n",
    "        p[3] = img[i-1,j]\n",
    "        p[4] = img[i,j]\n",
    "        p[5] = img[i+1,j]\n",
    "        p[6] = img[i-1,j+1]\n",
    "        p[7] = img[i,j+1]\n",
    "        p[8] = img[i+1,j+1]\n",
    "        \n",
    "        pl = min(p)\n",
    "        pm = median(p)\n",
    "        pu = max(p)\n",
    "        \n",
    "        for k in range(9):\n",
    "            if p[k] > pm:\n",
    "                d[k] = p[k] - pm\n",
    "            else:\n",
    "                d[k] = pm - p[k]\n",
    "        \n",
    "        r = max(d) - min(d)\n",
    "        if r == 0:\n",
    "            n = 0\n",
    "        else:\n",
    "            n = int(np.log2(r))\n",
    "        \n",
    "        if n != 0:\n",
    "            h = bin2dec(int(binary[bin_ct:(bin_ct+n)]))\n",
    "            bin_ct = n\n",
    "        \n",
    "            for k in range(9):\n",
    "                p_sudo[k] = p[k] - (int(np.mod(p[k],(2**n)))) + h\n",
    "        else:\n",
    "            p_sudo = p\n",
    "            \n",
    "        steagno_img[i-1,j-1] = p_sudo[0]\n",
    "        steagno_img[i,j-1] = p_sudo[1]\n",
    "        steagno_img[i+1,j-1] = p_sudo[2]\n",
    "        steagno_img[i-1,j] = p_sudo[3]\n",
    "        steagno_img[i,j] = p_sudo[4]\n",
    "        steagno_img[i+1,j] = p_sudo[5]\n",
    "        steagno_img[i-1,j+1] = p_sudo[6]\n",
    "        steagno_img[i,j+1] = p_sudo[7]\n",
    "        steagno_img[i+1,j+1] = p_sudo[8]\n",
    "cv2.imwrite('steagno_image.jpeg',steagno_img)"
   ]
  },
  {
   "cell_type": "code",
   "execution_count": 50,
   "metadata": {},
   "outputs": [],
   "source": [
    "cv2.imshow('sample',steagno_img)\n",
    "cv2.waitKey(0)\n",
    "cv2.destroyAllWindows()"
   ]
  },
  {
   "cell_type": "code",
   "execution_count": null,
   "metadata": {},
   "outputs": [],
   "source": []
  },
  {
   "cell_type": "markdown",
   "metadata": {},
   "source": [
    "## Edge Detection model"
   ]
  },
  {
   "cell_type": "code",
   "execution_count": 9,
   "metadata": {},
   "outputs": [
    {
     "name": "stdout",
     "output_type": "stream",
     "text": [
      "(1280, 960)\n"
     ]
    }
   ],
   "source": [
    "edge = np.zeros(img.shape,np.uint8)\n",
    "print(edge.shape)"
   ]
  },
  {
   "cell_type": "code",
   "execution_count": 10,
   "metadata": {},
   "outputs": [],
   "source": [
    "for i in range(height):\n",
    "    for j in range(width):\n",
    "        if img[i,j] >= 127:\n",
    "            edge[i,j] = 255\n",
    "        else:\n",
    "            edge[i,j] = 0\n",
    "cv2.imshow('edges',edge)\n",
    "cv2.waitKey(0)\n",
    "cv2.destroyAllWindows()"
   ]
  },
  {
   "cell_type": "code",
   "execution_count": null,
   "metadata": {},
   "outputs": [],
   "source": []
  },
  {
   "cell_type": "code",
   "execution_count": null,
   "metadata": {},
   "outputs": [],
   "source": []
  }
 ],
 "metadata": {
  "kernelspec": {
   "display_name": "Python 3",
   "language": "python",
   "name": "python3"
  },
  "language_info": {
   "codemirror_mode": {
    "name": "ipython",
    "version": 3
   },
   "file_extension": ".py",
   "mimetype": "text/x-python",
   "name": "python",
   "nbconvert_exporter": "python",
   "pygments_lexer": "ipython3",
   "version": "3.7.6"
  }
 },
 "nbformat": 4,
 "nbformat_minor": 4
}
