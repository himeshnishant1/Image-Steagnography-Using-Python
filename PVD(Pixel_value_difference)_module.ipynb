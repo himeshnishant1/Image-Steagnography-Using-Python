{
 "cells": [
  {
   "cell_type": "code",
   "execution_count": 8,
   "metadata": {},
   "outputs": [],
   "source": [
    "import numpy as np\n",
    "import cv2\n",
    "import random"
   ]
  },
  {
   "cell_type": "code",
   "execution_count": 53,
   "metadata": {},
   "outputs": [],
   "source": [
    "# To find the median of the pixels.\n",
    "def part(L,v):\n",
    "    smaller = []\n",
    "    larger = []\n",
    "    for val in L:\n",
    "        if val < v : smaller += [val]\n",
    "        if val > v : larger += [val]\n",
    "    return (smaller,[v],larger)\n",
    "\n",
    "def top_k(L,k):\n",
    "    v = L[random.randrange(len(L))]\n",
    "    (left,middle,right) = part(L,v)\n",
    "    if len(left) == k : return left\n",
    "    if len(left)+1 == k : return left+middle\n",
    "    if len(left) > k : return top_k(left,k)\n",
    "    return left + middle + top_k(right, k - len(left) - len(middle))\n",
    "\n",
    "def median(L):\n",
    "    n = len(L)\n",
    "    l = top_k(L, 5)\n",
    "    return max(l)"
   ]
  },
  {
   "cell_type": "code",
   "execution_count": 54,
   "metadata": {},
   "outputs": [],
   "source": [
    "img = cv2.imread('original.jpeg',0)"
   ]
  },
  {
   "cell_type": "code",
   "execution_count": 55,
   "metadata": {},
   "outputs": [],
   "source": [
    "cv2.imshow('sample',img)\n",
    "cv2.waitKey(0)\n",
    "cv2.destroyAllWindows()"
   ]
  },
  {
   "cell_type": "code",
   "execution_count": null,
   "metadata": {},
   "outputs": [],
   "source": []
  },
  {
   "cell_type": "code",
   "execution_count": 19,
   "metadata": {},
   "outputs": [
    {
     "name": "stdout",
     "output_type": "stream",
     "text": [
      "960 1280\n"
     ]
    }
   ],
   "source": [
    "height,width,pixels = img.shape\n",
    "print(width,height)"
   ]
  },
  {
   "cell_type": "code",
   "execution_count": null,
   "metadata": {},
   "outputs": [],
   "source": [
    "for row in range(1,int(width/3)*3,3):\n",
    "    for col in range(1,int(height/3)*3,3):\n",
    "        fract = np.zeros((3,3),np.uint8)\n",
    "        for"
   ]
  },
  {
   "cell_type": "code",
   "execution_count": null,
   "metadata": {},
   "outputs": [],
   "source": []
  },
  {
   "cell_type": "code",
   "execution_count": 45,
   "metadata": {},
   "outputs": [],
   "source": []
  },
  {
   "cell_type": "code",
   "execution_count": null,
   "metadata": {},
   "outputs": [],
   "source": []
  },
  {
   "cell_type": "code",
   "execution_count": null,
   "metadata": {},
   "outputs": [],
   "source": []
  },
  {
   "cell_type": "code",
   "execution_count": null,
   "metadata": {},
   "outputs": [],
   "source": []
  }
 ],
 "metadata": {
  "kernelspec": {
   "display_name": "Python 3",
   "language": "python",
   "name": "python3"
  },
  "language_info": {
   "codemirror_mode": {
    "name": "ipython",
    "version": 3
   },
   "file_extension": ".py",
   "mimetype": "text/x-python",
   "name": "python",
   "nbconvert_exporter": "python",
   "pygments_lexer": "ipython3",
   "version": "3.7.6"
  }
 },
 "nbformat": 4,
 "nbformat_minor": 4
}
