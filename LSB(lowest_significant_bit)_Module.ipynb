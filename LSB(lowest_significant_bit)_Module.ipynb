{
 "cells": [
  {
   "cell_type": "code",
   "execution_count": 1,
   "metadata": {},
   "outputs": [],
   "source": [
    "import numpy as np\n",
    "import cv2"
   ]
  },
  {
   "cell_type": "code",
   "execution_count": 2,
   "metadata": {},
   "outputs": [],
   "source": [
    "img = cv2.imread('original.jpeg',-1)\n",
    "# img = cv2.resize(img,(500,500))"
   ]
  },
  {
   "cell_type": "code",
   "execution_count": 3,
   "metadata": {},
   "outputs": [
    {
     "name": "stdout",
     "output_type": "stream",
     "text": [
      "height  1280 \n",
      "width 960\n"
     ]
    }
   ],
   "source": [
    "height,width,pixels = img.shape\n",
    "print(\"height \",height,\"\\nwidth\",width)"
   ]
  },
  {
   "cell_type": "code",
   "execution_count": 4,
   "metadata": {},
   "outputs": [],
   "source": [
    "# Decimal to Binary convertor\n",
    "def dec2bin(dec):\n",
    "    inverse = ''\n",
    "    binary = ''\n",
    "    while dec != 0:\n",
    "        inverse = inverse + str( int(dec % 2) )\n",
    "        dec = int(dec / 2)\n",
    "    if len(inverse) <= 8:\n",
    "        size = len(inverse)\n",
    "        for i in range(8-size):\n",
    "            inverse = inverse + '0'\n",
    "    for i in range(len(inverse)-1,-1,-1):\n",
    "        binary = binary + str(inverse[i])\n",
    "    return binary"
   ]
  },
  {
   "cell_type": "code",
   "execution_count": 5,
   "metadata": {},
   "outputs": [],
   "source": [
    "# Binary to Decimal convertor\n",
    "def bin2dec(binar):\n",
    "    binar = int(binar)\n",
    "    dec = 0\n",
    "    i = 0\n",
    "    while binar > 0:\n",
    "        dec = dec + (int(binar%10)*np.power(2,i))\n",
    "        i = i+1\n",
    "        binar = int(binar/10)\n",
    "    return dec"
   ]
  },
  {
   "cell_type": "code",
   "execution_count": 6,
   "metadata": {},
   "outputs": [],
   "source": [
    "# Secret Message into ASCII and ASCII into Binary format\n",
    "file = open('input.txt','r')\n",
    "secret_message = ''\n",
    "for line in file.readlines():\n",
    "    secret_message = secret_message + str(line)\n",
    "    \n",
    "binary = ''\n",
    "for pos in range(len(secret_message)):\n",
    "    if ord(secret_message[pos]) <= 255:\n",
    "        binary = binary + str(dec2bin(ord(secret_message[pos]))) # coverting Secret code into ASCII and ASCII into Binary.\n",
    "#print(\"Binary Code = \",binary)"
   ]
  },
  {
   "cell_type": "code",
   "execution_count": 7,
   "metadata": {},
   "outputs": [
    {
     "name": "stdout",
     "output_type": "stream",
     "text": [
      "text_length =  94960\n"
     ]
    }
   ],
   "source": [
    "len_binary = len(binary)\n",
    "print(\"text_length = \",len_binary)\n",
    "k = 0\n",
    "steagno_img = np.zeros((height,width,3),np.uint8) # Initializing the steagno image with original image.\n",
    "\n",
    "for i in range(height):\n",
    "    for j in range(width):\n",
    "        if k < len_binary: \n",
    "            b,g,r = img[i,j] # blue, green , red values in a pixel.\n",
    "            #print(np.dtype(b))\n",
    "            #print(b,g,r)\n",
    "            bin_b = int(dec2bin(b)) # binary form of blue pixel value.\n",
    "            bin_g = int(dec2bin(g)) # binary form of green pixel value.\n",
    "            bin_r = int(dec2bin(r)) # binary form of red pixel value.\n",
    "            #print(bin_b,bin_g,bin_r)\n",
    "            \n",
    "            if k < len_binary:\n",
    "                #print('bin_b ',bin_b)\n",
    "                if int(bin_b % 10) == int(binary[k]):\n",
    "                    k = k+1\n",
    "                else:\n",
    "                    if int(bin_b%10) == 0:\n",
    "                        bin_b = (int(bin_b/10)*10) + 1\n",
    "                    else:\n",
    "                        bin_b = int(bin_b/10)*10\n",
    "                    k = k+1\n",
    "                #print('bin_b ',bin_b)\n",
    "                    \n",
    "            if k < len_binary:\n",
    "                #print('bin_g ',bin_g)\n",
    "                if int(bin_g % 10) == int(binary[k]):\n",
    "                    k = k+1\n",
    "                else:\n",
    "                    if int(bin_g%10) == 0:\n",
    "                        bin_g = (int(bin_g/10)*10) + 1\n",
    "                    else:\n",
    "                        bin_g = int(bin_g/10)*10\n",
    "                    k = k+1\n",
    "                #print('bin_g ',bin_g)\n",
    "                \n",
    "            if k < len_binary:\n",
    "                #print('bin_r ',bin_r)\n",
    "                if int(bin_r % 10) == int(binary[k]):\n",
    "                    k = k+1\n",
    "                else:\n",
    "                    if int(bin_r%10) == 0:\n",
    "                        bin_r = (int(bin_r/10)*10) + 1\n",
    "                    else:\n",
    "                        bin_r = int(bin_r/10)*10\n",
    "                    k = k+1\n",
    "                #print('bin_r ',bin_r)\n",
    "            \n",
    "            #print(bin_b,bin_g,bin_r)\n",
    "            # Updating the original Pixel values. \n",
    "            b = np.uint8(bin2dec(bin_b))\n",
    "            g = np.uint8(bin2dec(bin_g))\n",
    "            r = np.uint8(bin2dec(bin_r))\n",
    "            steagno_img[i,j] = [b,g,r]\n",
    "            #print(img[i,j],steagno_img[i,j])\n",
    "                \n",
    "        else:\n",
    "            break"
   ]
  },
  {
   "cell_type": "code",
   "execution_count": 8,
   "metadata": {},
   "outputs": [
    {
     "data": {
      "text/plain": [
       "True"
      ]
     },
     "execution_count": 8,
     "metadata": {},
     "output_type": "execute_result"
    }
   ],
   "source": [
    "cv2.imwrite('steagno_image.jpeg',steagno_img)"
   ]
  },
  {
   "cell_type": "code",
   "execution_count": 9,
   "metadata": {},
   "outputs": [],
   "source": [
    "#print(steagno_img[0,0],img[0,0])\n",
    "steagno1_img = cv2.imread('steagno_image.jpeg')"
   ]
  },
  {
   "cell_type": "code",
   "execution_count": 13,
   "metadata": {},
   "outputs": [
    {
     "ename": "TypeError",
     "evalue": "'int' object is not callable",
     "output_type": "error",
     "traceback": [
      "\u001b[1;31m---------------------------------------------------------------------------\u001b[0m",
      "\u001b[1;31mTypeError\u001b[0m                                 Traceback (most recent call last)",
      "\u001b[1;32m<ipython-input-13-3816b67ad696>\u001b[0m in \u001b[0;36m<module>\u001b[1;34m\u001b[0m\n\u001b[0;32m      3\u001b[0m     \u001b[1;32mfor\u001b[0m \u001b[0mj\u001b[0m \u001b[1;32min\u001b[0m \u001b[0mrange\u001b[0m\u001b[1;33m(\u001b[0m\u001b[1;36m960\u001b[0m\u001b[1;33m)\u001b[0m\u001b[1;33m:\u001b[0m\u001b[1;33m\u001b[0m\u001b[1;33m\u001b[0m\u001b[0m\n\u001b[0;32m      4\u001b[0m         \u001b[0mb1\u001b[0m\u001b[1;33m,\u001b[0m\u001b[0mg1\u001b[0m\u001b[1;33m,\u001b[0m\u001b[0mr1\u001b[0m \u001b[1;33m=\u001b[0m \u001b[0msteagno1_img\u001b[0m\u001b[1;33m[\u001b[0m\u001b[0mi\u001b[0m\u001b[1;33m,\u001b[0m\u001b[0mj\u001b[0m\u001b[1;33m]\u001b[0m \u001b[1;31m# blue, green , red values in a pixel.\u001b[0m\u001b[1;33m\u001b[0m\u001b[1;33m\u001b[0m\u001b[0m\n\u001b[1;32m----> 5\u001b[1;33m         \u001b[0mbin_b1\u001b[0m \u001b[1;33m=\u001b[0m \u001b[0mint\u001b[0m\u001b[1;33m(\u001b[0m\u001b[0mdec2bin\u001b[0m\u001b[1;33m(\u001b[0m\u001b[0mb1\u001b[0m\u001b[1;33m)\u001b[0m\u001b[1;33m)\u001b[0m \u001b[1;31m# binary form of blue pixel value.\u001b[0m\u001b[1;33m\u001b[0m\u001b[1;33m\u001b[0m\u001b[0m\n\u001b[0m\u001b[0;32m      6\u001b[0m         \u001b[0mbin_g1\u001b[0m \u001b[1;33m=\u001b[0m \u001b[0mint\u001b[0m\u001b[1;33m(\u001b[0m\u001b[0mdec2bin\u001b[0m\u001b[1;33m(\u001b[0m\u001b[0mg1\u001b[0m\u001b[1;33m)\u001b[0m\u001b[1;33m)\u001b[0m \u001b[1;31m# binary form of green pixel value.\u001b[0m\u001b[1;33m\u001b[0m\u001b[1;33m\u001b[0m\u001b[0m\n\u001b[0;32m      7\u001b[0m         \u001b[0mbin_r1\u001b[0m \u001b[1;33m=\u001b[0m \u001b[0mint\u001b[0m\u001b[1;33m(\u001b[0m\u001b[0mdec2bin\u001b[0m\u001b[1;33m(\u001b[0m\u001b[0mr1\u001b[0m\u001b[1;33m)\u001b[0m\u001b[1;33m)\u001b[0m \u001b[1;31m# binary form of red pixel value.\u001b[0m\u001b[1;33m\u001b[0m\u001b[1;33m\u001b[0m\u001b[0m\n",
      "\u001b[1;32m<ipython-input-4-e8234ea99706>\u001b[0m in \u001b[0;36mdec2bin\u001b[1;34m(dec)\u001b[0m\n\u001b[0;32m      6\u001b[0m         \u001b[0minverse\u001b[0m \u001b[1;33m=\u001b[0m \u001b[0minverse\u001b[0m \u001b[1;33m+\u001b[0m \u001b[0mstr\u001b[0m\u001b[1;33m(\u001b[0m \u001b[0mint\u001b[0m\u001b[1;33m(\u001b[0m\u001b[0mdec\u001b[0m \u001b[1;33m%\u001b[0m \u001b[1;36m2\u001b[0m\u001b[1;33m)\u001b[0m \u001b[1;33m)\u001b[0m\u001b[1;33m\u001b[0m\u001b[1;33m\u001b[0m\u001b[0m\n\u001b[0;32m      7\u001b[0m         \u001b[0mdec\u001b[0m \u001b[1;33m=\u001b[0m \u001b[0mint\u001b[0m\u001b[1;33m(\u001b[0m\u001b[0mdec\u001b[0m \u001b[1;33m/\u001b[0m \u001b[1;36m2\u001b[0m\u001b[1;33m)\u001b[0m\u001b[1;33m\u001b[0m\u001b[1;33m\u001b[0m\u001b[0m\n\u001b[1;32m----> 8\u001b[1;33m     \u001b[1;32mif\u001b[0m \u001b[0mlen\u001b[0m\u001b[1;33m(\u001b[0m\u001b[0minverse\u001b[0m\u001b[1;33m)\u001b[0m \u001b[1;33m<=\u001b[0m \u001b[1;36m8\u001b[0m\u001b[1;33m:\u001b[0m\u001b[1;33m\u001b[0m\u001b[1;33m\u001b[0m\u001b[0m\n\u001b[0m\u001b[0;32m      9\u001b[0m         \u001b[0msize\u001b[0m \u001b[1;33m=\u001b[0m \u001b[0mlen\u001b[0m\u001b[1;33m(\u001b[0m\u001b[0minverse\u001b[0m\u001b[1;33m)\u001b[0m\u001b[1;33m\u001b[0m\u001b[1;33m\u001b[0m\u001b[0m\n\u001b[0;32m     10\u001b[0m         \u001b[1;32mfor\u001b[0m \u001b[0mi\u001b[0m \u001b[1;32min\u001b[0m \u001b[0mrange\u001b[0m\u001b[1;33m(\u001b[0m\u001b[1;36m8\u001b[0m\u001b[1;33m-\u001b[0m\u001b[0msize\u001b[0m\u001b[1;33m)\u001b[0m\u001b[1;33m:\u001b[0m\u001b[1;33m\u001b[0m\u001b[1;33m\u001b[0m\u001b[0m\n",
      "\u001b[1;31mTypeError\u001b[0m: 'int' object is not callable"
     ]
    }
   ],
   "source": [
    "extracted_code = ''\n",
    "for i in range(100):\n",
    "    for j in range(960):\n",
    "        b1,g1,r1 = steagno1_img[i,j] # blue, green , red values in a pixel.\n",
    "        bin_b1 = int(dec2bin(b1)) # binary form of blue pixel value.\n",
    "        bin_g1 = int(dec2bin(g1)) # binary form of green pixel value.\n",
    "        bin_r1 = int(dec2bin(r1)) # binary form of red pixel value.\n",
    "            \n",
    "        extracted_code = extracted_code + str(int(bin_b1%10)) + str(int(bin_g1%10)) + str(int(bin_r1%10))\n",
    "print(\"Code Extraction Completed.\")\n",
    "#for i in range(len(binary)):\n",
    "#    print(extracted_code[i],' ',binary[i])\n",
    "print(\"Now decoding the message.\")\n",
    "word = ''\n",
    "for len in range(0,len(extracted_code),8):\n",
    "    #print(extracted_code[len:(len+8)],'  ',chr(bin2dec(int(extracted_code[len:(len+8)]))))\n",
    "    word =  word + str(chr(bin2dec(int(extracted_code[len:(len+8)]))))\n",
    "print(word)"
   ]
  },
  {
   "cell_type": "code",
   "execution_count": 11,
   "metadata": {},
   "outputs": [
    {
     "name": "stdout",
     "output_type": "stream",
     "text": [
      "[223 235 241] [223 235 241]\n",
      "[223 235 241] [223 235 241]\n",
      "[223 235 241] [223 235 241]\n",
      "[223 235 241] [223 235 241]\n",
      "[223 235 241] [223 235 241]\n",
      "[223 235 241] [223 235 241]\n",
      "[223 235 241] [223 235 241]\n",
      "[223 235 241] [223 235 241]\n",
      "[225 237 243] [225 237 243]\n",
      "[225 237 243] [225 237 243]\n",
      "[225 237 243] [225 237 243]\n",
      "[225 237 243] [225 237 243]\n",
      "[225 237 243] [225 237 243]\n",
      "[225 237 243] [225 237 243]\n",
      "[225 237 243] [225 237 243]\n",
      "[225 237 243] [225 237 243]\n",
      "[225 237 243] [225 237 243]\n",
      "[225 237 243] [225 237 243]\n",
      "[225 237 243] [224 236 242]\n",
      "[225 237 243] [225 237 243]\n",
      "[223 235 241] [223 235 241]\n",
      "[223 235 241] [223 235 241]\n",
      "[223 235 241] [223 235 241]\n",
      "[223 235 241] [223 235 241]\n",
      "[223 235 241] [223 235 241]\n",
      "[223 235 241] [223 235 241]\n",
      "[223 235 241] [223 235 241]\n",
      "[223 235 241] [223 235 241]\n",
      "[225 237 243] [225 237 243]\n",
      "[225 237 243] [225 237 243]\n",
      "[225 237 243] [225 237 243]\n",
      "[225 237 243] [225 237 243]\n",
      "[225 237 243] [225 237 243]\n",
      "[225 237 243] [225 237 243]\n",
      "[225 237 243] [225 237 243]\n",
      "[225 237 243] [225 237 243]\n",
      "[225 237 243] [225 237 243]\n",
      "[225 237 243] [225 237 243]\n",
      "[224 236 242] [224 236 242]\n",
      "[225 237 243] [225 237 243]\n",
      "[223 235 241] [223 235 241]\n",
      "[223 235 241] [223 235 241]\n",
      "[223 235 241] [223 235 241]\n",
      "[223 235 241] [223 235 241]\n",
      "[223 235 241] [223 235 241]\n",
      "[223 235 241] [223 235 241]\n",
      "[223 235 241] [223 235 241]\n",
      "[223 235 241] [223 235 241]\n",
      "[225 237 243] [225 237 243]\n",
      "[225 237 243] [225 237 243]\n",
      "[225 237 243] [225 237 243]\n",
      "[225 237 243] [225 237 243]\n",
      "[225 237 243] [225 237 243]\n",
      "[225 237 243] [225 237 243]\n",
      "[225 237 243] [225 237 243]\n",
      "[225 237 243] [225 237 243]\n",
      "[224 236 242] [225 237 243]\n",
      "[224 236 242] [225 237 243]\n",
      "[224 236 242] [224 236 242]\n",
      "[225 237 243] [225 237 243]\n",
      "[223 235 241] [223 235 241]\n",
      "[223 235 241] [223 235 241]\n",
      "[223 235 241] [223 235 241]\n",
      "[223 235 241] [223 235 241]\n",
      "[223 235 241] [223 235 241]\n",
      "[223 235 241] [223 235 241]\n",
      "[223 235 241] [223 235 241]\n",
      "[223 235 241] [223 235 241]\n",
      "[225 237 243] [225 237 243]\n",
      "[225 237 243] [225 237 243]\n",
      "[225 237 243] [225 237 243]\n",
      "[225 237 243] [225 237 243]\n",
      "[225 237 243] [225 237 243]\n",
      "[225 237 243] [225 237 243]\n",
      "[225 237 243] [225 237 243]\n",
      "[225 237 243] [225 237 243]\n",
      "[225 237 243] [225 237 243]\n",
      "[224 236 242] [224 236 242]\n",
      "[224 236 242] [224 236 242]\n",
      "[224 236 242] [224 236 242]\n",
      "[223 235 241] [223 235 241]\n",
      "[223 235 241] [223 235 241]\n",
      "[223 235 241] [223 235 241]\n",
      "[223 235 241] [223 235 241]\n",
      "[223 235 241] [223 235 241]\n",
      "[223 235 241] [223 235 241]\n",
      "[223 235 241] [223 235 241]\n",
      "[223 235 241] [223 235 241]\n",
      "[225 237 243] [225 237 243]\n",
      "[225 237 243] [225 237 243]\n",
      "[225 237 243] [225 237 243]\n",
      "[225 237 243] [225 237 243]\n",
      "[225 237 243] [225 237 243]\n",
      "[225 237 243] [225 237 243]\n",
      "[225 237 243] [225 237 243]\n",
      "[225 237 243] [225 237 243]\n",
      "[225 237 243] [225 237 243]\n",
      "[225 237 243] [224 236 242]\n",
      "[224 236 242] [224 236 242]\n",
      "[224 236 242] [224 236 242]\n",
      "[223 235 241] [223 235 241]\n",
      "[223 235 241] [223 235 241]\n",
      "[223 235 241] [223 235 241]\n",
      "[223 235 241] [223 235 241]\n",
      "[223 235 241] [223 235 241]\n",
      "[223 235 241] [223 235 241]\n",
      "[223 235 241] [223 235 241]\n",
      "[223 235 241] [223 235 241]\n",
      "[225 237 243] [225 237 243]\n",
      "[225 237 243] [225 237 243]\n",
      "[225 237 243] [225 237 243]\n",
      "[225 237 243] [225 237 243]\n",
      "[225 237 243] [225 237 243]\n",
      "[225 237 243] [225 237 243]\n",
      "[225 237 243] [225 237 243]\n",
      "[225 237 243] [225 237 243]\n",
      "[225 237 243] [225 237 243]\n",
      "[225 237 243] [224 236 242]\n",
      "[224 236 242] [224 236 242]\n",
      "[224 236 242] [224 236 242]\n",
      "[223 235 241] [223 235 241]\n",
      "[223 235 241] [223 235 241]\n",
      "[223 235 241] [223 235 241]\n",
      "[223 235 241] [223 235 241]\n",
      "[223 235 241] [223 235 241]\n",
      "[223 235 241] [223 235 241]\n",
      "[223 235 241] [223 235 241]\n",
      "[223 235 241] [223 235 241]\n",
      "[225 237 243] [225 237 243]\n",
      "[225 237 243] [225 237 243]\n",
      "[225 237 243] [225 237 243]\n",
      "[225 237 243] [225 237 243]\n",
      "[225 237 243] [225 237 243]\n",
      "[225 237 243] [225 237 243]\n",
      "[225 237 243] [225 237 243]\n",
      "[225 237 243] [225 237 243]\n",
      "[225 237 243] [225 237 243]\n",
      "[225 237 243] [225 237 243]\n",
      "[224 236 242] [224 236 242]\n",
      "[225 237 243] [225 237 243]\n",
      "[223 235 241] [223 235 241]\n",
      "[223 235 241] [223 235 241]\n",
      "[223 235 241] [223 235 241]\n",
      "[223 235 241] [223 235 241]\n",
      "[223 235 241] [223 235 241]\n",
      "[223 235 241] [223 235 241]\n",
      "[223 235 241] [223 235 241]\n",
      "[223 235 241] [223 235 241]\n",
      "[225 237 243] [225 237 243]\n",
      "[225 237 243] [225 237 243]\n",
      "[225 237 243] [225 237 243]\n",
      "[225 237 243] [225 237 243]\n",
      "[225 237 243] [225 237 243]\n",
      "[225 237 243] [225 237 243]\n",
      "[224 236 242] [224 236 242]\n",
      "[224 236 242] [224 236 242]\n",
      "[225 237 243] [225 237 243]\n",
      "[225 237 243] [225 237 243]\n",
      "[224 236 242] [225 237 243]\n",
      "[225 237 243] [225 237 243]\n",
      "[225 237 243] [225 237 243]\n",
      "[225 237 243] [225 237 243]\n",
      "[225 237 243] [225 237 243]\n",
      "[225 237 243] [225 237 243]\n",
      "[225 237 243] [225 237 243]\n",
      "[225 237 243] [225 237 243]\n",
      "[225 237 243] [225 237 243]\n",
      "[225 237 243] [225 237 243]\n",
      "[225 237 243] [225 237 243]\n",
      "[225 237 243] [225 237 243]\n",
      "[225 237 243] [225 237 243]\n",
      "[225 237 243] [225 237 243]\n",
      "[225 237 243] [225 237 243]\n",
      "[225 237 243] [225 237 243]\n",
      "[225 237 243] [225 237 243]\n",
      "[225 237 243] [225 237 243]\n",
      "[226 238 244] [226 238 244]\n",
      "[225 237 243] [225 237 243]\n",
      "[224 236 242] [224 236 242]\n",
      "[225 237 243] [225 237 243]\n",
      "[225 237 243] [225 237 243]\n",
      "[225 237 243] [225 237 243]\n",
      "[225 237 243] [225 237 243]\n",
      "[225 237 243] [225 237 243]\n",
      "[225 237 243] [225 237 243]\n",
      "[225 237 243] [225 237 243]\n",
      "[225 237 243] [225 237 243]\n",
      "[225 237 243] [225 237 243]\n",
      "[225 237 243] [225 237 243]\n",
      "[225 237 243] [225 237 243]\n",
      "[225 237 243] [225 237 243]\n",
      "[225 237 243] [225 237 243]\n",
      "[225 237 243] [225 237 243]\n",
      "[225 237 243] [225 237 243]\n",
      "[225 237 243] [225 237 243]\n",
      "[225 237 243] [225 237 243]\n",
      "[226 238 244] [226 238 244]\n",
      "[225 237 243] [225 237 243]\n",
      "[224 236 242] [224 236 242]\n",
      "[225 237 243] [225 237 243]\n"
     ]
    }
   ],
   "source": [
    "for i in range(10):\n",
    "    for j in range(20):\n",
    "        print(steagno1_img[i,j],img[i,j])"
   ]
  },
  {
   "cell_type": "code",
   "execution_count": 12,
   "metadata": {},
   "outputs": [
    {
     "name": "stdout",
     "output_type": "stream",
     "text": [
      "\n"
     ]
    }
   ],
   "source": [
    "print(chr(61656))"
   ]
  },
  {
   "cell_type": "code",
   "execution_count": null,
   "metadata": {},
   "outputs": [],
   "source": []
  },
  {
   "cell_type": "code",
   "execution_count": null,
   "metadata": {},
   "outputs": [],
   "source": []
  },
  {
   "cell_type": "code",
   "execution_count": null,
   "metadata": {},
   "outputs": [],
   "source": []
  }
 ],
 "metadata": {
  "kernelspec": {
   "display_name": "Python 3",
   "language": "python",
   "name": "python3"
  },
  "language_info": {
   "codemirror_mode": {
    "name": "ipython",
    "version": 3
   },
   "file_extension": ".py",
   "mimetype": "text/x-python",
   "name": "python",
   "nbconvert_exporter": "python",
   "pygments_lexer": "ipython3",
   "version": "3.7.6"
  }
 },
 "nbformat": 4,
 "nbformat_minor": 4
}
