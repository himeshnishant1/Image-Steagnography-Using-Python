{
 "cells": [
  {
   "cell_type": "code",
   "execution_count": 1,
   "metadata": {},
   "outputs": [],
   "source": [
    "from tkinter import *\n",
    "\n",
    "root = Tk()\n",
    "\n",
    "# Create a lable widget\n",
    "myLabel1 = Label(root, text=\"Hello World\")\n",
    "myLabel2 = Label(root, text=\"My Name is Tarun\")\n",
    "\n",
    "myLabel1.grid(row = 0 , column = 0)\n",
    "myLabel2.grid(row = 1 , column = 1)\n",
    "\n",
    "root.mainloop()\n"
   ]
  },
  {
   "cell_type": "code",
   "execution_count": 2,
   "metadata": {},
   "outputs": [],
   "source": [
    "from tkinter import *\n",
    "\n",
    "root = Tk()\n",
    "\n",
    "#working with the frame and button\n",
    "frame = Frame(root)\n",
    "button1 = Button(frame, text=\"Button 1\")\n",
    "button2 = Button(frame, text=\"Button 3\")\n",
    "button3 = Button(frame, text=\"Button 3\")\n",
    "\n",
    "button1.pack(side = LEFT)\n",
    "button2.pack(side = LEFT)\n",
    "button3.pack(side = LEFT)\n",
    "\n",
    "frame.pack()\n",
    "\n",
    "bottomFrame = Frame(root)\n",
    "\n",
    "button4 = Button(bottomFrame , text=\"DOWN\")\n",
    "button4.pack()\n",
    "\n",
    "bottomFrame.pack(side = BOTTOM)\n",
    "\n",
    "root.mainloop()"
   ]
  },
  {
   "cell_type": "code",
   "execution_count": 3,
   "metadata": {},
   "outputs": [],
   "source": [
    "from tkinter import *\n",
    "\n",
    "root = Tk()\n",
    "\n",
    "frame = Frame(root,width='500',height='500')\n",
    "frame.pack()\n",
    "\n",
    "root.mainloop()"
   ]
  },
  {
   "cell_type": "code",
   "execution_count": 4,
   "metadata": {},
   "outputs": [],
   "source": [
    "from tkinter import *\n",
    "root = Tk()\n",
    "one = Label(root ,text = \"one\",bg = 'blue', fg = 'white')\n",
    "one.pack(fill = X)\n",
    "root.mainloop()"
   ]
  },
  {
   "cell_type": "code",
   "execution_count": 5,
   "metadata": {},
   "outputs": [],
   "source": [
    "from tkinter import *\n",
    "root = Tk()\n",
    "\n",
    "# Grid layout\n",
    "name = Label(root,text=\"Name\" )\n",
    "password = Label(root,text=\"Password\")\n",
    "entry1 = Entry(root)\n",
    "entry2 = Entry(root)\n",
    "\n",
    "name.grid(row = 0 ,sticky = E)#sticky for fix the widget to N,S,E,W direction\n",
    "entry1.grid(row = 0, column = 1)\n",
    "password.grid(row = 1,sticky = E )\n",
    "entry2.grid(row = 1, column = 1)\n",
    "\n",
    "#check box\n",
    "\n",
    "c =Checkbutton(root,text =\"keep me logged in\")\n",
    "c.grid(columnspan = 2,sticky = E)\n",
    "\n",
    "root.mainloop()"
   ]
  },
  {
   "cell_type": "code",
   "execution_count": 6,
   "metadata": {},
   "outputs": [],
   "source": [
    "from tkinter import *\n",
    "\n",
    "root = Tk()\n",
    "\n",
    "def call_me(event):\n",
    "    print(\"I'm Called\")\n",
    "\n",
    "#button = Button(root , text=\"click me\",command = call_me)# command is used for function calling\n",
    "button = Button(root , text=\"click me\")  \n",
    "button.bind(\"<Button-1>\" , call_me)# for function binding\n",
    "button.pack()\n",
    "root.mainloop()"
   ]
  },
  {
   "cell_type": "code",
   "execution_count": 7,
   "metadata": {},
   "outputs": [],
   "source": [
    "# Mouse click event\n",
    "from tkinter import *\n",
    "\n",
    "root = Tk()\n",
    "\n",
    "def rightclick(event):\n",
    "    print(\"right click\")\n",
    "def leftclick(event):\n",
    "    print(\"left click\")\n",
    "def middleclick(event):\n",
    "    print(\"middle click\")    \n",
    "\n",
    "frame = Frame(root,width=1000,height=600)\n",
    "frame.bind(\"<Button-1>\",leftclick)\n",
    "frame.bind(\"<Button-2>\",middleclick)\n",
    "frame.bind(\"<Button-3>\",rightclick)\n",
    "\n",
    "frame.pack()\n",
    "\n",
    "root.mainloop()"
   ]
  },
  {
   "cell_type": "code",
   "execution_count": 8,
   "metadata": {},
   "outputs": [],
   "source": [
    "from tkinter import *\n",
    "\n",
    "root = Tk()\n",
    "root.geometry(\"1200x700+110+55\") # root or main frame position for window \n",
    "\n",
    "root.mainloop()"
   ]
  },
  {
   "cell_type": "code",
   "execution_count": 9,
   "metadata": {},
   "outputs": [],
   "source": [
    "from tkinter import *\n",
    "\n",
    "class mybuttons: #uses of class and self\n",
    "    def __init__(self,master):\n",
    "        self.printButton = Button(master,text = \"print\" , command = self.mes )\n",
    "        self.printButton.pack(side = LEFT)\n",
    "    \n",
    "    def mes(self):\n",
    "        print(\"print message\")\n",
    "\n",
    "root = Tk()\n",
    "b = mybuttons(root)\n",
    "\n",
    "root.mainloop()"
   ]
  },
  {
   "cell_type": "code",
   "execution_count": 13,
   "metadata": {},
   "outputs": [],
   "source": [
    "from tkinter import *\n",
    "\n",
    "root = Tk()\n",
    "root.geometry(\"1200x700+110+55\") # root or main frame position for window\n",
    "\n",
    "def do_nothing():\n",
    "    print(\"DO NOTHING\")\n",
    "    \n",
    "# drop down menu\n",
    "main_menu = Menu(root)\n",
    "root.config(menu=main_menu)\n",
    "fileMenu = Menu(main_menu)\n",
    "main_menu.add_cascade(label = \"file\" , menu =fileMenu)\n",
    "editMenu = Menu(main_menu)\n",
    "main_menu.add_cascade(label = \"Edit\" , menu =editMenu)\n",
    "\n",
    "fileMenu.add_command(label = \"new Project\" ,command = do_nothing)\n",
    "fileMenu.add_separator()\n",
    "fileMenu.add_command(label = \"open\" ,command = do_nothing)\n",
    "\n",
    "#sub Menu \n",
    "savemenu = Menu(fileMenu)\n",
    "savemenu.add_command(label = \"save as new\", command = do_nothing)\n",
    "savemenu.add_command(label = \"save now\", command = do_nothing)\n",
    "fileMenu.add_cascade(label = \"save\" , menu=savemenu)\n",
    "\n",
    "\n",
    "root.mainloop()"
   ]
  },
  {
   "cell_type": "code",
   "execution_count": 21,
   "metadata": {},
   "outputs": [],
   "source": [
    "from tkinter import *\n",
    "\n",
    "root = None\n",
    "\n",
    "def buttonPushed():\n",
    "    global root\n",
    "    root.destroy() # Kill the root window!\n",
    "\n",
    "def main():\n",
    "    global root\n",
    "    root = Tk()\n",
    "    root.geometry(\"1200x700+110+55\") # root or main frame position for window\n",
    "    \n",
    "    l = Label(root,text=\"Hello World\")\n",
    "    l.pack()\n",
    "    b = Button(root,text=\"Exit\",command = buttonPushed)\n",
    "    b.pack()\n",
    "    root.mainloop()\n",
    "    \n",
    "main()"
   ]
  },
  {
   "cell_type": "code",
   "execution_count": 25,
   "metadata": {},
   "outputs": [
    {
     "name": "stdout",
     "output_type": "stream",
     "text": [
      "The text is: \n",
      "The text is: \n",
      "The text is: this is the world\n"
     ]
    }
   ],
   "source": [
    "from tkinter import * \n",
    "# Hold onto a global reference for the root window root = None \n",
    "# Hold onto the Text Entry Box also entryBox = None \n",
    "def buttonPushed():\n",
    "    global entryBox\n",
    "    txt = entryBox.get()\n",
    "    print (\"The text is:\",txt) \n",
    "def createTextBox(parent):\n",
    "    global entryBox\n",
    "    entryBox = Entry(parent)\n",
    "    entryBox.pack() \n",
    "def main():\n",
    "    global root \n",
    "    root = Tk()  # Create the root (base) window where all widgets go \n",
    "    root.geometry(\"1200x700+110+55\") # root or main frame position for window\n",
    "    myButton = Button(root, text=\"Show Text\",command=buttonPushed)\n",
    "    myButton.pack()\n",
    "    createTextBox(root)\n",
    "    root.mainloop() # Start the event loop \n",
    "    \n",
    "main()"
   ]
  },
  {
   "cell_type": "code",
   "execution_count": null,
   "metadata": {},
   "outputs": [],
   "source": []
  },
  {
   "cell_type": "code",
   "execution_count": null,
   "metadata": {},
   "outputs": [],
   "source": []
  },
  {
   "cell_type": "code",
   "execution_count": null,
   "metadata": {},
   "outputs": [],
   "source": []
  },
  {
   "cell_type": "code",
   "execution_count": null,
   "metadata": {},
   "outputs": [],
   "source": []
  },
  {
   "cell_type": "code",
   "execution_count": null,
   "metadata": {},
   "outputs": [],
   "source": []
  },
  {
   "cell_type": "code",
   "execution_count": null,
   "metadata": {},
   "outputs": [],
   "source": []
  }
 ],
 "metadata": {
  "kernelspec": {
   "display_name": "Python 3",
   "language": "python",
   "name": "python3"
  },
  "language_info": {
   "codemirror_mode": {
    "name": "ipython",
    "version": 3
   },
   "file_extension": ".py",
   "mimetype": "text/x-python",
   "name": "python",
   "nbconvert_exporter": "python",
   "pygments_lexer": "ipython3",
   "version": "3.7.6"
  }
 },
 "nbformat": 4,
 "nbformat_minor": 4
}
