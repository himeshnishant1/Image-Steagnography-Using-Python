{
 "cells": [
  {
   "cell_type": "code",
   "execution_count": 1,
   "metadata": {},
   "outputs": [],
   "source": [
    "# Importing Packages \n",
    "import numpy as np # For Mathematical funnctions.\n",
    "import cv2 # OpenCV."
   ]
  },
  {
   "cell_type": "code",
   "execution_count": 2,
   "metadata": {},
   "outputs": [],
   "source": [
    "# Reading an Image through Opencv\n",
    "img = cv2.imread('img.jpg')\n",
    "# img = cv2.resize(img,(500,500))"
   ]
  },
  {
   "cell_type": "code",
   "execution_count": 3,
   "metadata": {},
   "outputs": [
    {
     "name": "stdout",
     "output_type": "stream",
     "text": [
      "height  2160 \n",
      "width 3840\n"
     ]
    }
   ],
   "source": [
    "# Capturing the size of the Cover Image.\n",
    "height,width,pixels = img.shape\n",
    "print(\"height \",height,\"\\nwidth\",width)"
   ]
  },
  {
   "cell_type": "code",
   "execution_count": 4,
   "metadata": {},
   "outputs": [],
   "source": [
    "# Decimal to Binary convertor\n",
    "def dec2bin(dec):\n",
    "    inverse = ''\n",
    "    binary = ''\n",
    "    while dec != 0:\n",
    "        inverse = inverse + str( int(dec % 2) )\n",
    "        dec = int(dec / 2)\n",
    "    if len(inverse) <= 8:\n",
    "        size = len(inverse)\n",
    "        for i in range(8-size):\n",
    "            inverse = inverse + '0'\n",
    "    for i in range(len(inverse)-1,-1,-1):\n",
    "        binary = binary + str(inverse[i])\n",
    "    return binary\n",
    "\n",
    "# Binary to Decimal convertor\n",
    "def bin2dec(binar):\n",
    "    binar = int(binar)\n",
    "    dec = 0\n",
    "    i = 0\n",
    "    while binar > 0:\n",
    "        dec = dec + (int(binar%10)*np.power(2,i))\n",
    "        i = i+1\n",
    "        binar = int(binar/10)\n",
    "    return dec"
   ]
  },
  {
   "cell_type": "code",
   "execution_count": 5,
   "metadata": {},
   "outputs": [],
   "source": [
    "def msb(i): #Most Significant bit of binary number\n",
    "    a = dec2bin(i)\n",
    "    b = a[0:8]\n",
    "    return b"
   ]
  },
  {
   "cell_type": "code",
   "execution_count": 6,
   "metadata": {},
   "outputs": [
    {
     "name": "stdout",
     "output_type": "stream",
     "text": [
      "Converting Message to Binary...\n",
      "\n",
      "Message Conversion Successfull.\n",
      "\n"
     ]
    }
   ],
   "source": [
    "# Secret Message into ASCII and ASCII into Binary format\n",
    "file = open('input.txt','r')\n",
    "secret_message = ''\n",
    "for line in file.readlines():\n",
    "    secret_message = secret_message + str(line)\n",
    "    \n",
    "binary = ''\n",
    "print(\"Converting Message to Binary...\")\n",
    "for pos in range(len(secret_message)):\n",
    "    if ord(secret_message[pos]) <= 255:\n",
    "        binary = binary + str(dec2bin(ord(secret_message[pos]))) # coverting Secret code into ASCII and ASCII into Binary.\n",
    "print(\"\\nMessage Conversion Successfull.\\n\")\n",
    "#print(\"Binary Code = \",binary)"
   ]
  },
  {
   "cell_type": "code",
   "execution_count": 7,
   "metadata": {},
   "outputs": [],
   "source": [
    "code = 10101101\n",
    "code = str(code)\n",
    "text = int(code[1:8])"
   ]
  },
  {
   "cell_type": "code",
   "execution_count": 8,
   "metadata": {},
   "outputs": [
    {
     "name": "stdout",
     "output_type": "stream",
     "text": [
      "text_length =  94960\n",
      "\n",
      "Writing Successfull.\n",
      "\n"
     ]
    }
   ],
   "source": [
    "# Writing Changes to Cover Image and Generating a Steagnographed Image.\n",
    "len_binary = len(binary)\n",
    "print(\"text_length = \",len_binary)\n",
    "k = 0\n",
    "steagno_img = img # Initializing the steagno image with original image.\n",
    "\n",
    "for i in range(height):\n",
    "    for j in range(width):\n",
    "        if k < len_binary: \n",
    "            b,g,r = img[i,j] # blue, green , red values in a pixel.\n",
    "            #print(np.dtype(b))\n",
    "            #print(b,g,r)\n",
    "            bin_b = int(msb(b)) # binary form of blue pixel value.\n",
    "            bin_g = int(msb(g)) # binary form of green pixel value.\n",
    "            bin_r = int(msb(r)) # binary form of red pixel value.\n",
    "            #print(bin_b,bin_g,bin_r)\n",
    "            \n",
    "            bin_b = str(bin_b)\n",
    "            bin_g = str(bin_g)\n",
    "            bin_r = str(bin_r)\n",
    "            \n",
    "            if k < len_binary:\n",
    "                #print('bin_b ',bin_b)\n",
    "                if int(bin_b[0]) == int(binary[k]):\n",
    "                    k = k+1\n",
    "                else:\n",
    "                    if int(bin_b[0]) == 0:\n",
    "                        bin_b = '1' + bin_b[1:-1]\n",
    "                    else:\n",
    "                        bin_b = '0' + bin_b[1:-1]\n",
    "                    k = k+1\n",
    "                #print('bin_b ',bin_b)\n",
    "                    \n",
    "            if k < len_binary:\n",
    "                #print('bin_g ',bin_g)\n",
    "                if int(bin_g[0]) == int(binary[k]):\n",
    "                    k = k+1\n",
    "                else:\n",
    "                    if int(bin_g[0]) == 0:\n",
    "                        bin_g = '1' + bin_g[1:-1]\n",
    "                    else:\n",
    "                        bin_g = '0' + bin_b[1:-1]\n",
    "                    k = k+1\n",
    "                #print('bin_g ',bin_g)\n",
    "                \n",
    "            if k < len_binary:\n",
    "                #print('bin_r ',bin_r)\n",
    "                if int(bin_r[0]) == int(binary[k]):\n",
    "                    k = k+1\n",
    "                else:\n",
    "                    if int(bin_r[0]) == 0:\n",
    "                        bin_r = '1' + bin_r[1:-1]\n",
    "                    else:\n",
    "                        bin_r = '0' + bin_r[1:-1]\n",
    "                    k = k+1\n",
    "                #print('bin_r ',bin_r)\n",
    "            \n",
    "            #print(bin_b,bin_g,bin_r)\n",
    "            # Updating the original Pixel values. \n",
    "            b = np.uint8(bin2dec(int(bin_b)))\n",
    "            g = np.uint8(bin2dec(int(bin_g)))\n",
    "            r = np.uint8(bin2dec((bin_r)))\n",
    "            steagno_img[i,j] = [b,g,r]\n",
    "            #print(img[i,j],steagno_img[i,j])\n",
    "                \n",
    "        else:\n",
    "            break\n",
    "            \n",
    "cv2.imwrite('steagno_image.png',steagno_img)\n",
    "print(\"\\nWriting Successfull.\\n\")"
   ]
  },
  {
   "cell_type": "code",
   "execution_count": null,
   "metadata": {},
   "outputs": [
    {
     "name": "stdout",
     "output_type": "stream",
     "text": [
      "\\Extracting Code...\n"
     ]
    }
   ],
   "source": [
    "# Extracting the Secret Message for the Image.\n",
    "steagno1_img = cv2.imread('steagno_image.png') # Reading an Steagnographed Image.\n",
    "#print(steagno_img[0,0],img[0,0])\n",
    "extracted_code = ''\n",
    "print(\"\\Extracting Code...\")\n",
    "for i in range(height):\n",
    "    for j in range(width):\n",
    "        b,g,r = steagno1_img[i,j] # blue, green , red values in a pixel.\n",
    "        bin_b = int(msb(b)) # binary form of blue pixel value.\n",
    "        bin_g = int(msb(g)) # binary form of green pixel value.\n",
    "        bin_r = int(msb(r)) # binary form of red pixel value.\n",
    "        \n",
    "        bin_b = str(bin_b)\n",
    "        bin_g = str(bin_g)\n",
    "        bin_r = str(bin_r)\n",
    "            \n",
    "        extracted_code = extracted_code + bin_b[0] + bin_g[0] + bin_r[0]\n",
    "print(\"Code Extraction Completed.\")\n",
    "print(\"Now Coverting message to Readable format...\\n\\n\")\n",
    "word = ''\n",
    "for len in range(0,len(extracted_code),8):\n",
    "    word =  word + str(chr(bin2dec(int(extracted_code[len:(len+8)]))))\n",
    "print(word)"
   ]
  },
  {
   "cell_type": "code",
   "execution_count": null,
   "metadata": {},
   "outputs": [],
   "source": []
  },
  {
   "cell_type": "code",
   "execution_count": null,
   "metadata": {},
   "outputs": [],
   "source": []
  },
  {
   "cell_type": "code",
   "execution_count": null,
   "metadata": {},
   "outputs": [],
   "source": []
  },
  {
   "cell_type": "code",
   "execution_count": null,
   "metadata": {},
   "outputs": [],
   "source": []
  },
  {
   "cell_type": "code",
   "execution_count": null,
   "metadata": {},
   "outputs": [],
   "source": []
  },
  {
   "cell_type": "code",
   "execution_count": null,
   "metadata": {},
   "outputs": [],
   "source": []
  }
 ],
 "metadata": {
  "kernelspec": {
   "display_name": "Python 3.7.6 64-bit ('base': conda)",
   "language": "python",
   "name": "python37664bitbaseconda2a872b04383f421c9fbf66194be693a6"
  },
  "language_info": {
   "codemirror_mode": {
    "name": "ipython",
    "version": 3
   },
   "file_extension": ".py",
   "mimetype": "text/x-python",
   "name": "python",
   "nbconvert_exporter": "python",
   "pygments_lexer": "ipython3",
   "version": "3.7.6"
  }
 },
 "nbformat": 4,
 "nbformat_minor": 4
}
