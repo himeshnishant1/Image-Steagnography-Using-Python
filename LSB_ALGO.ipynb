{
 "cells": [
  {
   "cell_type": "code",
   "execution_count": 1,
   "metadata": {},
   "outputs": [],
   "source": [
    "# Importing Packages \n",
    "import numpy as np # For Mathematical funnctions.\n",
    "import cv2 # OpenCV."
   ]
  },
  {
   "cell_type": "code",
   "execution_count": 2,
   "metadata": {},
   "outputs": [],
   "source": [
    "# Reading an Image through Opencv\n",
    "img = cv2.imread('original.jpeg')\n",
    "# img = cv2.resize(img,(500,500))"
   ]
  },
  {
   "cell_type": "code",
   "execution_count": 3,
   "metadata": {},
   "outputs": [
    {
     "name": "stdout",
     "output_type": "stream",
     "text": [
      "height  1280 \n",
      "width 960\n"
     ]
    }
   ],
   "source": [
    "# Capturing the size of the Cover Image.\n",
    "height,width,pixels = img.shape\n",
    "print(\"height \",height,\"\\nwidth\",width)"
   ]
  },
  {
   "cell_type": "code",
   "execution_count": 4,
   "metadata": {},
   "outputs": [],
   "source": [
    "# Decimal to Binary convertor\n",
    "def dec2bin(dec):\n",
    "    inverse = ''\n",
    "    binary = ''\n",
    "    while dec != 0:\n",
    "        inverse = inverse + str( int(dec % 2) )\n",
    "        dec = int(dec / 2)\n",
    "    if len(inverse) <= 8:\n",
    "        size = len(inverse)\n",
    "        for i in range(8-size):\n",
    "            inverse = inverse + '0'\n",
    "    for i in range(len(inverse)-1,-1,-1):\n",
    "        binary = binary + str(inverse[i])\n",
    "    return binary"
   ]
  },
  {
   "cell_type": "code",
   "execution_count": 5,
   "metadata": {},
   "outputs": [],
   "source": [
    "# Binary to Decimal convertor\n",
    "def bin2dec(binar):\n",
    "    binar = int(binar)\n",
    "    dec = 0\n",
    "    i = 0\n",
    "    while binar > 0:\n",
    "        dec = dec + (int(binar%10)*np.power(2,i))\n",
    "        i = i+1\n",
    "        binar = int(binar/10)\n",
    "    return dec"
   ]
  },
  {
   "cell_type": "code",
   "execution_count": 6,
   "metadata": {},
   "outputs": [],
   "source": [
    "# XOR operation\n",
    "def XOR(data,key):\n",
    "    data = str(data)\n",
    "    key = str(key)\n",
    "    enc_data = ''\n",
    "    for ext_data in range(len(data)):\n",
    "        if data[ext_data] == '0' and key[ext_data] == '0':\n",
    "            enc_data = enc_data + '0'\n",
    "        elif data[ext_data] == '0' and key[ext_data] == '1':\n",
    "            enc_data = enc_data + '1'\n",
    "        elif data[ext_data] == '1' and key[ext_data] == '0':\n",
    "            enc_data = enc_data + '1'\n",
    "        elif data[ext_data] == '1' and key[ext_data] == '1':\n",
    "            enc_data = enc_data + '0'\n",
    "    return enc_data"
   ]
  },
  {
   "cell_type": "code",
   "execution_count": null,
   "metadata": {},
   "outputs": [],
   "source": [
    "# Secret Message into ASCII and ASCII into Binary format\n",
    "file = open('input.txt','r')\n",
    "secret_message = ''\n",
    "for line in file.readlines():\n",
    "    secret_message = secret_message + str(line)\n",
    "binary = ''\n",
    "key = ''\n",
    "key = input(\"Enter a numeric key of 4 digits..\")\n",
    "count = 0\n",
    "tmp = ''\n",
    "while True:\n",
    "    if key.isnumeric() and (len(key) == 4):\n",
    "        sum1 = 0\n",
    "        for i in range(len(key)):\n",
    "            sum1 = sum1+ ord(key[i])\n",
    "        key = str(dec2bin(sum1))\n",
    "        print(\"Converting Message to Binary and encrypting...\")\n",
    "        for pos in range(len(secret_message)):\n",
    "            if ord(secret_message[pos]) <= 255:\n",
    "                if count < 8:\n",
    "                    binary = binary + str(XOR(dec2bin(ord(secret_message[pos])),key)) # coverting Secret code into ASCII and ASCII into Encrypted Binary.\n",
    "                    count = count + 1\n",
    "                else:\n",
    "                    tmp = count = 0\n",
    "        print(\"\\nMessage Conversion Successfull.\\n\")\n",
    "        #print(\"Binary Code = \",binary)\n",
    "        break;\n",
    "    else:\n",
    "        print(\"please enter only 4 numeric digits the key\")\n",
    "        key = input(\"Enter a numeric key of 4 digits..\")"
   ]
  },
  {
   "cell_type": "code",
   "execution_count": null,
   "metadata": {},
   "outputs": [],
   "source": [
    "# Writing Changes to Cover Image and Generating a Steagnographed Image.\n",
    "len_binary = len(binary)\n",
    "print(\"text_length = \",len_binary)\n",
    "k = 0\n",
    "steagno_img = img # Initializing the steagno image with original image.\n",
    "\n",
    "for i in range(height):\n",
    "    for j in range(width):\n",
    "        if k < len_binary: \n",
    "            b,g,r = img[i,j] # blue, green , red values in a pixel.\n",
    "            #print(np.dtype(b))\n",
    "            #print(b,g,r)\n",
    "            bin_b = int(dec2bin(b)) # binary form of blue pixel value.\n",
    "            bin_g = int(dec2bin(g)) # binary form of green pixel value.\n",
    "            bin_r = int(dec2bin(r)) # binary form of red pixel value.\n",
    "            #print(bin_b,bin_g,bin_r)\n",
    "            \n",
    "            if k < len_binary:\n",
    "                #print('bin_b ',bin_b)\n",
    "                if int(bin_b % 10) == int(binary[k]):\n",
    "                    k = k+1\n",
    "                else:\n",
    "                    if int(bin_b%10) == 0:\n",
    "                        bin_b = (int(bin_b/10)*10) + 1\n",
    "                    else:\n",
    "                        bin_b = int(bin_b/10)*10\n",
    "                    k = k+1\n",
    "                #print('bin_b ',bin_b)\n",
    "                    \n",
    "            if k < len_binary:\n",
    "                #print('bin_g ',bin_g)\n",
    "                if int(bin_g % 10) == int(binary[k]):\n",
    "                    k = k+1\n",
    "                else:\n",
    "                    if int(bin_g%10) == 0:\n",
    "                        bin_g = (int(bin_g/10)*10) + 1\n",
    "                    else:\n",
    "                        bin_g = int(bin_g/10)*10\n",
    "                    k = k+1\n",
    "                #print('bin_g ',bin_g)\n",
    "                \n",
    "            if k < len_binary:\n",
    "                #print('bin_r ',bin_r)\n",
    "                if int(bin_r % 10) == int(binary[k]):\n",
    "                    k = k+1\n",
    "                else:\n",
    "                    if int(bin_r%10) == 0:\n",
    "                        bin_r = (int(bin_r/10)*10) + 1\n",
    "                    else:\n",
    "                        bin_r = int(bin_r/10)*10\n",
    "                    k = k+1\n",
    "                #print('bin_r ',bin_r)\n",
    "            \n",
    "            #print(bin_b,bin_g,bin_r)\n",
    "            # Updating the original Pixel values. \n",
    "            b = np.uint8(bin2dec(bin_b))\n",
    "            g = np.uint8(bin2dec(bin_g))\n",
    "            r = np.uint8(bin2dec(bin_r))\n",
    "            steagno_img[i,j] = [b,g,r]\n",
    "            #print(img[i,j],steagno_img[i,j])\n",
    "                \n",
    "        else:\n",
    "            break;\n",
    "            \n",
    "cv2.imwrite('steagno_image.png',steagno_img)\n",
    "print(\"\\nWriting Successfull.\\n\")"
   ]
  },
  {
   "cell_type": "code",
   "execution_count": null,
   "metadata": {},
   "outputs": [],
   "source": [
    "# Extracting the Secret Message for the Image.\n",
    "steagno1_img = cv2.imread('steagno_image.png') # Reading an Steagnographed Image.\n",
    "#print(steagno_img[0,0],img[0,0])\n",
    "sum1 = 0\n",
    "key = input(\"Enter your key..\")\n",
    "for i in range(len(key)):\n",
    "        sum1 = sum1 + ord(key[i])\n",
    "key = str(dec2bin(sum1))\n",
    "extracted_code = ''\n",
    "print(\"Extracting Code...\")\n",
    "for i in range(100):\n",
    "    for j in range(960):\n",
    "        b,g,r = steagno1_img[i,j] # blue, green , red values in a pixel.\n",
    "        bin_b = int(dec2bin(b)) # binary form of blue pixel value.\n",
    "        bin_g = int(dec2bin(g)) # binary form of green pixel value.\n",
    "        bin_r = int(dec2bin(r)) # binary form of red pixel value.\n",
    "        extracted_code = extracted_code + str(int(bin_b%10)) + str(int(bin_g%10)) + str(int(bin_r%10))\n",
    "print(\"Code Extraction Completed.\")\n",
    "print(\"Now Coverting message to Readable format...\")\n",
    "word = ''\n",
    "for leng in range(0,len(extracted_code),8):\n",
    "    word =  word + str(chr(bin2dec(XOR(extracted_code[leng:(leng+8)],key))))\n",
    "print(word)"
   ]
  }
 ],
 "metadata": {
  "kernelspec": {
   "display_name": "Python 3",
   "language": "python",
   "name": "python3"
  },
  "language_info": {
   "codemirror_mode": {
    "name": "ipython",
    "version": 3
   },
   "file_extension": ".py",
   "mimetype": "text/x-python",
   "name": "python",
   "nbconvert_exporter": "python",
   "pygments_lexer": "ipython3",
   "version": "3.7.6"
  }
 },
 "nbformat": 4,
 "nbformat_minor": 4
}
